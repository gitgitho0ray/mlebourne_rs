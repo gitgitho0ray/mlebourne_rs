{
 "cells": [
  {
   "cell_type": "code",
   "execution_count": 3,
   "metadata": {},
   "outputs": [],
   "source": [
    "from selenium import webdriver\n",
    "from selenium.webdriver.common.keys import Keys\n",
    "from time import sleep\n",
    "import re\n",
    "from bs4 import BeautifulSoup # For HTML parsing\n",
    "import requests # Website connections\n",
    "from time import sleep # To prevent overwhelming the server between connections\n",
    "from collections import Counter # Keep track of our term counts\n",
    "import pandas as pd # For converting results to a dataframe and bar chart plots\n",
    "import json # For parsing json\n",
    "import numpy as np\n",
    "import matplotlib.pyplot as plt\n",
    "import pandas as pd\n",
    "from time import sleep\n",
    "from tqdm.notebook import tqdm"
   ]
  },
  {
   "cell_type": "code",
   "execution_count": 2,
   "metadata": {},
   "outputs": [],
   "source": [
    "def savetocsv(dfname,filename):\n",
    "    \"\"\"\n",
    "    Save Pandas DF to csv file \n",
    "    \"\"\"\n",
    "    dfname.to_csv(r'/Users/idmp/GoogleDrive/melbourne-housing-market/{}.csv'.format(filename), index = False)"
   ]
  },
  {
   "cell_type": "code",
   "execution_count": 124,
   "metadata": {},
   "outputs": [],
   "source": [
    "driver = webdriver.Chrome('/Users/idmp/GoogleDrive/chromedriver')"
   ]
  },
  {
   "cell_type": "code",
   "execution_count": 4,
   "metadata": {},
   "outputs": [],
   "source": [
    "df=pd.read_csv('/Users/idmp/GoogleDrive/melbourne-housing-market/Melbourne_housing_FULL.csv', engine='python')  \n",
    "pcodes=pd.DataFrame(df['Postcode'].dropna().unique())   \n",
    "plist=[str(pcodes.iloc[i,0])[:-2] for i in range(pcodes.shape[0])]"
   ]
  },
  {
   "cell_type": "code",
   "execution_count": 119,
   "metadata": {},
   "outputs": [],
   "source": [
    "data=[]\n",
    "counter=0\n",
    "for code in tqdm(plist):\n",
    "    url2=f'https://quickstats.censusdata.abs.gov.au/census_services/getproduct/census/2016/quickstat/POA{code}?opendocument'\n",
    "    driver.get(url2)\n",
    "    sleep(3)\n",
    "    pop = driver.find_element_by_xpath('/html/body/div[3]/div[4]/div/div[1]/div[1]/div[2]/table[1]/tbody/tr[1]/td').text.replace(',','')\n",
    "    households = driver.find_element_by_xpath('/html/body/div[3]/div[4]/div/div[1]/div[1]/div[2]/table[2]/tbody/tr[1]/td').text.replace(',','')\n",
    "    medage = driver.find_element_by_xpath('/html/body/div[3]/div[4]/div/div[1]/div[1]/div[2]/table[1]/tbody/tr[4]/td').text\n",
    "    wkinc = driver.find_element_by_xpath('/html/body/div[3]/div[4]/div/div[1]/div[1]/div[2]/table[3]/tbody/tr[3]/td').text.replace(',','').replace('$','')\n",
    "    mtg = driver.find_element_by_xpath('/html/body/div[3]/div[4]/div/div[1]/div[1]/div[2]/table[3]/tbody/tr[4]/td').text.replace(',','').replace('$','')\n",
    "    rent = driver.find_element_by_xpath('/html/body/div[3]/div[4]/div/div[1]/div[1]/div[2]/table[3]/tbody/tr[5]/td').text.replace(',','').replace('$','')\n",
    "    cars = driver.find_element_by_xpath('/html/body/div[3]/div[4]/div/div[1]/div[1]/div[2]/table[3]/tbody/tr[6]/td').text\n",
    "    univ = driver.find_element_by_xpath('/html/body/div[3]/div[4]/div/div[3]/div[1]/table[5]/tbody/tr[10]/td[1]').text.replace(',','')\n",
    "    unemp = driver.find_element_by_xpath('/html/body/div[3]/div[4]/div/div[3]/div[1]/table[14]/tbody/tr[5]/td[1]').text.replace(',','')\n",
    "    data.append([pop,households,medage,wkinc,mtg, rent, cars,univ,unemp])"
   ]
  },
  {
   "cell_type": "code",
   "execution_count": 232,
   "metadata": {},
   "outputs": [],
   "source": [
    "columns_names =['population',\n",
    "                'households',\n",
    "                'med_age',\n",
    "                'hh_inc',\n",
    "                'hh_mtg_pmt',\n",
    "                'med_wk_rent',\n",
    "                'hh_cars',\n",
    "                'uni_edu',\n",
    "                'unemp']\n",
    "dataframe = pd.DataFrame(data, columns=columns_names, index=plist).astype('float')\n",
    "dataframe=dataframe.reset_index()"
   ]
  },
  {
   "cell_type": "code",
   "execution_count": 236,
   "metadata": {},
   "outputs": [],
   "source": [
    "savetocsv(dataframe,'popstats')"
   ]
  }
 ],
 "metadata": {
  "kernelspec": {
   "display_name": "Python 3",
   "language": "python",
   "name": "python3"
  },
  "language_info": {
   "codemirror_mode": {
    "name": "ipython",
    "version": 3
   },
   "file_extension": ".py",
   "mimetype": "text/x-python",
   "name": "python",
   "nbconvert_exporter": "python",
   "pygments_lexer": "ipython3",
   "version": "3.7.7"
  }
 },
 "nbformat": 4,
 "nbformat_minor": 2
}
